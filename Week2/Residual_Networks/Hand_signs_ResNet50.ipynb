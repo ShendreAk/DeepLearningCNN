{
 "cells": [
  {
   "cell_type": "code",
   "execution_count": 6,
   "metadata": {
    "id": "mZ78DekNmQEP"
   },
   "outputs": [],
   "source": [
    "import tensorflow as tf\n",
    "import numpy as np\n",
    "import h5py\n",
    "\n",
    "from tensorflow.keras.preprocessing import image\n",
    "from tensorflow.keras import layers\n",
    "from tensorflow.keras.layers import Input, Add, Dense, Activation, ZeroPadding2D, BatchNormalization, Flatten, Conv2D, AveragePooling2D, MaxPooling2D\n",
    "from tensorflow.keras.models import Model, load_model\n",
    "\n",
    "\n",
    "%matplotlib inline"
   ]
  },
  {
   "cell_type": "code",
   "execution_count": 2,
   "metadata": {
    "id": "I_ugni5UnHWV"
   },
   "outputs": [],
   "source": [
    "def identity_block(X,f,filters):\n",
    "  f1,f2,f3 = filters\n",
    "  x_short = X\n",
    "  X = Conv2D(filters=f1,kernel_size=(1,1),strides=(1,1),padding='valid',kernel_initializer='glorot_uniform')(X)\n",
    "  X = BatchNormalization(axis=3)(X)\n",
    "  X = Activation('relu')(X)\n",
    "\n",
    "  X = Conv2D(filters=f2,kernel_size=(f,f),strides=(1,1),padding='same',kernel_initializer='glorot_uniform')(X)\n",
    "  X = BatchNormalization(axis=3)(X)\n",
    "  X = Activation('relu')(X)\n",
    "\n",
    "  X = Conv2D(filters=f3,kernel_size=(1,1),strides=(1,1),padding='valid',kernel_initializer='glorot_uniform')(X)\n",
    "  X = BatchNormalization(axis=3)(X)\n",
    "\n",
    "  X = Add()([x_short,X])\n",
    "  X = Activation('relu')(X)\n",
    "\n",
    "  return X\n"
   ]
  },
  {
   "cell_type": "code",
   "execution_count": 3,
   "metadata": {
    "id": "boAQJe7VnHSZ"
   },
   "outputs": [],
   "source": [
    "def convolutional_block(X,f,filters,s=2):\n",
    "  f1,f2,f3 = filters\n",
    "  x_short = X\n",
    "  X = Conv2D(filters=f1,kernel_size=(1,1),strides=(s,s),padding='valid',kernel_initializer='glorot_uniform')(X)\n",
    "  X = BatchNormalization(axis=3)(X)\n",
    "  X = Activation('relu')(X)\n",
    "\n",
    "  X = Conv2D(filters=f2,kernel_size=(f,f),strides=(1,1),padding='same',kernel_initializer='glorot_uniform')(X)\n",
    "  X = BatchNormalization(axis=3)(X)\n",
    "  X = Activation('relu')(X)\n",
    "\n",
    "  X = Conv2D(filters=f3,kernel_size=(1,1),strides=(1,1),padding='valid',kernel_initializer='glorot_uniform')(X)\n",
    "  X = BatchNormalization(axis=3)(X)\n",
    "\n",
    "  x_short = Conv2D(filters=f3,kernel_size=(1,1),strides=(s,s),padding='valid',kernel_initializer='glorot_uniform')(x_short)\n",
    "  x_short = BatchNormalization(axis=3)(x_short)\n",
    "\n",
    "  X = Add()([x_short,X])\n",
    "  X = Activation('relu')(X)\n",
    "\n",
    "  return X"
   ]
  },
  {
   "cell_type": "code",
   "execution_count": 4,
   "metadata": {
    "id": "B7Ef_SwjnHO_"
   },
   "outputs": [],
   "source": [
    "def ResNet50(input_shape = (64,64,3),classes=6):\n",
    "  X_input = Input(input_shape)\n",
    "\n",
    "  X = ZeroPadding2D((3, 3))(X_input)\n",
    "  X = Conv2D(64, (7, 7), strides = (2, 2), kernel_initializer = 'glorot_uniform')(X)\n",
    "  X = BatchNormalization(axis = 3)(X)\n",
    "  X = Activation('relu')(X)\n",
    "  X = MaxPooling2D((3, 3), strides=(2, 2))(X)\n",
    "\n",
    "  X = convolutional_block(X,f = 3,filters = [64, 64, 256],s=1)\n",
    "  X = identity_block(X, 3, [64, 64, 256])\n",
    "  X = identity_block(X, 3, [64, 64, 256])\n",
    "\n",
    "  X = convolutional_block(X,f = 3,filters = [128,128,512],s=2)\n",
    "  X = identity_block(X, 3, [128,128,512])\n",
    "  X = identity_block(X, 3, [128,128,512])\n",
    "\n",
    "  X = convolutional_block(X, f = 3, filters = [256, 256, 1024], s = 2)\n",
    "  X = identity_block(X, 3, [256, 256, 1024])\n",
    "  X = identity_block(X, 3, [256, 256, 1024])\n",
    "  X = identity_block(X, 3, [256, 256, 1024])\n",
    "  X = identity_block(X, 3, [256, 256, 1024])\n",
    "  X = identity_block(X, 3, [256, 256, 1024])\n",
    "\n",
    "  X = convolutional_block(X, f = 3, filters = [512, 512, 2048], s = 2)\n",
    "  X = identity_block(X, 3, [512, 512, 2048])\n",
    "  X = identity_block(X, 3, [512, 512, 2048])\n",
    "\n",
    "  X = AveragePooling2D((2, 2))(X)\n",
    "  X = Flatten()(X)\n",
    "  X = Dense(units = classes, activation = 'softmax', kernel_initializer='he_uniform')(X)\n",
    "\n",
    "  model = Model(inputs=X_input, outputs=X)\n",
    "  return model\n",
    "\n"
   ]
  },
  {
   "cell_type": "code",
   "execution_count": 5,
   "metadata": {
    "colab": {
     "base_uri": "https://localhost:8080/"
    },
    "id": "g1xp4wCSnHLh",
    "outputId": "fa903477-81b5-4e5e-d848-b6f0bf2d176d"
   },
   "outputs": [
    {
     "name": "stdout",
     "output_type": "stream",
     "text": [
      "Model: \"model\"\n",
      "__________________________________________________________________________________________________\n",
      " Layer (type)                   Output Shape         Param #     Connected to                     \n",
      "==================================================================================================\n",
      " input_1 (InputLayer)           [(None, 64, 64, 3)]  0           []                               \n",
      "                                                                                                  \n",
      " zero_padding2d (ZeroPadding2D)  (None, 70, 70, 3)   0           ['input_1[0][0]']                \n",
      "                                                                                                  \n",
      " conv2d (Conv2D)                (None, 32, 32, 64)   9472        ['zero_padding2d[0][0]']         \n",
      "                                                                                                  \n",
      " batch_normalization (BatchNorm  (None, 32, 32, 64)  256         ['conv2d[0][0]']                 \n",
      " alization)                                                                                       \n",
      "                                                                                                  \n",
      " activation (Activation)        (None, 32, 32, 64)   0           ['batch_normalization[0][0]']    \n",
      "                                                                                                  \n",
      " max_pooling2d (MaxPooling2D)   (None, 15, 15, 64)   0           ['activation[0][0]']             \n",
      "                                                                                                  \n",
      " conv2d_1 (Conv2D)              (None, 15, 15, 64)   4160        ['max_pooling2d[0][0]']          \n",
      "                                                                                                  \n",
      " batch_normalization_1 (BatchNo  (None, 15, 15, 64)  256         ['conv2d_1[0][0]']               \n",
      " rmalization)                                                                                     \n",
      "                                                                                                  \n",
      " activation_1 (Activation)      (None, 15, 15, 64)   0           ['batch_normalization_1[0][0]']  \n",
      "                                                                                                  \n",
      " conv2d_2 (Conv2D)              (None, 15, 15, 64)   36928       ['activation_1[0][0]']           \n",
      "                                                                                                  \n",
      " batch_normalization_2 (BatchNo  (None, 15, 15, 64)  256         ['conv2d_2[0][0]']               \n",
      " rmalization)                                                                                     \n",
      "                                                                                                  \n",
      " activation_2 (Activation)      (None, 15, 15, 64)   0           ['batch_normalization_2[0][0]']  \n",
      "                                                                                                  \n",
      " conv2d_4 (Conv2D)              (None, 15, 15, 256)  16640       ['max_pooling2d[0][0]']          \n",
      "                                                                                                  \n",
      " conv2d_3 (Conv2D)              (None, 15, 15, 256)  16640       ['activation_2[0][0]']           \n",
      "                                                                                                  \n",
      " batch_normalization_4 (BatchNo  (None, 15, 15, 256)  1024       ['conv2d_4[0][0]']               \n",
      " rmalization)                                                                                     \n",
      "                                                                                                  \n",
      " batch_normalization_3 (BatchNo  (None, 15, 15, 256)  1024       ['conv2d_3[0][0]']               \n",
      " rmalization)                                                                                     \n",
      "                                                                                                  \n",
      " add (Add)                      (None, 15, 15, 256)  0           ['batch_normalization_4[0][0]',  \n",
      "                                                                  'batch_normalization_3[0][0]']  \n",
      "                                                                                                  \n",
      " activation_3 (Activation)      (None, 15, 15, 256)  0           ['add[0][0]']                    \n",
      "                                                                                                  \n",
      " conv2d_5 (Conv2D)              (None, 15, 15, 64)   16448       ['activation_3[0][0]']           \n",
      "                                                                                                  \n",
      " batch_normalization_5 (BatchNo  (None, 15, 15, 64)  256         ['conv2d_5[0][0]']               \n",
      " rmalization)                                                                                     \n",
      "                                                                                                  \n",
      " activation_4 (Activation)      (None, 15, 15, 64)   0           ['batch_normalization_5[0][0]']  \n",
      "                                                                                                  \n",
      " conv2d_6 (Conv2D)              (None, 15, 15, 64)   36928       ['activation_4[0][0]']           \n",
      "                                                                                                  \n",
      " batch_normalization_6 (BatchNo  (None, 15, 15, 64)  256         ['conv2d_6[0][0]']               \n",
      " rmalization)                                                                                     \n",
      "                                                                                                  \n",
      " activation_5 (Activation)      (None, 15, 15, 64)   0           ['batch_normalization_6[0][0]']  \n",
      "                                                                                                  \n",
      " conv2d_7 (Conv2D)              (None, 15, 15, 256)  16640       ['activation_5[0][0]']           \n",
      "                                                                                                  \n",
      " batch_normalization_7 (BatchNo  (None, 15, 15, 256)  1024       ['conv2d_7[0][0]']               \n",
      " rmalization)                                                                                     \n",
      "                                                                                                  \n",
      " add_1 (Add)                    (None, 15, 15, 256)  0           ['activation_3[0][0]',           \n",
      "                                                                  'batch_normalization_7[0][0]']  \n",
      "                                                                                                  \n",
      " activation_6 (Activation)      (None, 15, 15, 256)  0           ['add_1[0][0]']                  \n",
      "                                                                                                  \n",
      " conv2d_8 (Conv2D)              (None, 15, 15, 64)   16448       ['activation_6[0][0]']           \n",
      "                                                                                                  \n",
      " batch_normalization_8 (BatchNo  (None, 15, 15, 64)  256         ['conv2d_8[0][0]']               \n",
      " rmalization)                                                                                     \n",
      "                                                                                                  \n",
      " activation_7 (Activation)      (None, 15, 15, 64)   0           ['batch_normalization_8[0][0]']  \n",
      "                                                                                                  \n",
      " conv2d_9 (Conv2D)              (None, 15, 15, 64)   36928       ['activation_7[0][0]']           \n",
      "                                                                                                  \n",
      " batch_normalization_9 (BatchNo  (None, 15, 15, 64)  256         ['conv2d_9[0][0]']               \n",
      " rmalization)                                                                                     \n",
      "                                                                                                  \n",
      " activation_8 (Activation)      (None, 15, 15, 64)   0           ['batch_normalization_9[0][0]']  \n",
      "                                                                                                  \n",
      " conv2d_10 (Conv2D)             (None, 15, 15, 256)  16640       ['activation_8[0][0]']           \n",
      "                                                                                                  \n",
      " batch_normalization_10 (BatchN  (None, 15, 15, 256)  1024       ['conv2d_10[0][0]']              \n",
      " ormalization)                                                                                    \n",
      "                                                                                                  \n",
      " add_2 (Add)                    (None, 15, 15, 256)  0           ['activation_6[0][0]',           \n",
      "                                                                  'batch_normalization_10[0][0]'] \n",
      "                                                                                                  \n",
      " activation_9 (Activation)      (None, 15, 15, 256)  0           ['add_2[0][0]']                  \n",
      "                                                                                                  \n",
      " conv2d_11 (Conv2D)             (None, 8, 8, 128)    32896       ['activation_9[0][0]']           \n",
      "                                                                                                  \n",
      " batch_normalization_11 (BatchN  (None, 8, 8, 128)   512         ['conv2d_11[0][0]']              \n",
      " ormalization)                                                                                    \n",
      "                                                                                                  \n",
      " activation_10 (Activation)     (None, 8, 8, 128)    0           ['batch_normalization_11[0][0]'] \n",
      "                                                                                                  \n",
      " conv2d_12 (Conv2D)             (None, 8, 8, 128)    147584      ['activation_10[0][0]']          \n",
      "                                                                                                  \n",
      " batch_normalization_12 (BatchN  (None, 8, 8, 128)   512         ['conv2d_12[0][0]']              \n",
      " ormalization)                                                                                    \n",
      "                                                                                                  \n",
      " activation_11 (Activation)     (None, 8, 8, 128)    0           ['batch_normalization_12[0][0]'] \n",
      "                                                                                                  \n",
      " conv2d_14 (Conv2D)             (None, 8, 8, 512)    131584      ['activation_9[0][0]']           \n",
      "                                                                                                  \n",
      " conv2d_13 (Conv2D)             (None, 8, 8, 512)    66048       ['activation_11[0][0]']          \n",
      "                                                                                                  \n",
      " batch_normalization_14 (BatchN  (None, 8, 8, 512)   2048        ['conv2d_14[0][0]']              \n",
      " ormalization)                                                                                    \n",
      "                                                                                                  \n",
      " batch_normalization_13 (BatchN  (None, 8, 8, 512)   2048        ['conv2d_13[0][0]']              \n",
      " ormalization)                                                                                    \n",
      "                                                                                                  \n",
      " add_3 (Add)                    (None, 8, 8, 512)    0           ['batch_normalization_14[0][0]', \n",
      "                                                                  'batch_normalization_13[0][0]'] \n",
      "                                                                                                  \n",
      " activation_12 (Activation)     (None, 8, 8, 512)    0           ['add_3[0][0]']                  \n",
      "                                                                                                  \n",
      " conv2d_15 (Conv2D)             (None, 8, 8, 128)    65664       ['activation_12[0][0]']          \n",
      "                                                                                                  \n",
      " batch_normalization_15 (BatchN  (None, 8, 8, 128)   512         ['conv2d_15[0][0]']              \n",
      " ormalization)                                                                                    \n",
      "                                                                                                  \n",
      " activation_13 (Activation)     (None, 8, 8, 128)    0           ['batch_normalization_15[0][0]'] \n",
      "                                                                                                  \n",
      " conv2d_16 (Conv2D)             (None, 8, 8, 128)    147584      ['activation_13[0][0]']          \n",
      "                                                                                                  \n",
      " batch_normalization_16 (BatchN  (None, 8, 8, 128)   512         ['conv2d_16[0][0]']              \n",
      " ormalization)                                                                                    \n",
      "                                                                                                  \n",
      " activation_14 (Activation)     (None, 8, 8, 128)    0           ['batch_normalization_16[0][0]'] \n",
      "                                                                                                  \n",
      " conv2d_17 (Conv2D)             (None, 8, 8, 512)    66048       ['activation_14[0][0]']          \n",
      "                                                                                                  \n",
      " batch_normalization_17 (BatchN  (None, 8, 8, 512)   2048        ['conv2d_17[0][0]']              \n",
      " ormalization)                                                                                    \n",
      "                                                                                                  \n",
      " add_4 (Add)                    (None, 8, 8, 512)    0           ['activation_12[0][0]',          \n",
      "                                                                  'batch_normalization_17[0][0]'] \n",
      "                                                                                                  \n",
      " activation_15 (Activation)     (None, 8, 8, 512)    0           ['add_4[0][0]']                  \n",
      "                                                                                                  \n",
      " conv2d_18 (Conv2D)             (None, 8, 8, 128)    65664       ['activation_15[0][0]']          \n",
      "                                                                                                  \n",
      " batch_normalization_18 (BatchN  (None, 8, 8, 128)   512         ['conv2d_18[0][0]']              \n",
      " ormalization)                                                                                    \n",
      "                                                                                                  \n",
      " activation_16 (Activation)     (None, 8, 8, 128)    0           ['batch_normalization_18[0][0]'] \n",
      "                                                                                                  \n",
      " conv2d_19 (Conv2D)             (None, 8, 8, 128)    147584      ['activation_16[0][0]']          \n",
      "                                                                                                  \n",
      " batch_normalization_19 (BatchN  (None, 8, 8, 128)   512         ['conv2d_19[0][0]']              \n",
      " ormalization)                                                                                    \n",
      "                                                                                                  \n",
      " activation_17 (Activation)     (None, 8, 8, 128)    0           ['batch_normalization_19[0][0]'] \n",
      "                                                                                                  \n",
      " conv2d_20 (Conv2D)             (None, 8, 8, 512)    66048       ['activation_17[0][0]']          \n",
      "                                                                                                  \n",
      " batch_normalization_20 (BatchN  (None, 8, 8, 512)   2048        ['conv2d_20[0][0]']              \n",
      " ormalization)                                                                                    \n",
      "                                                                                                  \n",
      " add_5 (Add)                    (None, 8, 8, 512)    0           ['activation_15[0][0]',          \n",
      "                                                                  'batch_normalization_20[0][0]'] \n",
      "                                                                                                  \n",
      " activation_18 (Activation)     (None, 8, 8, 512)    0           ['add_5[0][0]']                  \n",
      "                                                                                                  \n",
      " conv2d_21 (Conv2D)             (None, 4, 4, 256)    131328      ['activation_18[0][0]']          \n",
      "                                                                                                  \n",
      " batch_normalization_21 (BatchN  (None, 4, 4, 256)   1024        ['conv2d_21[0][0]']              \n",
      " ormalization)                                                                                    \n",
      "                                                                                                  \n",
      " activation_19 (Activation)     (None, 4, 4, 256)    0           ['batch_normalization_21[0][0]'] \n",
      "                                                                                                  \n",
      " conv2d_22 (Conv2D)             (None, 4, 4, 256)    590080      ['activation_19[0][0]']          \n",
      "                                                                                                  \n",
      " batch_normalization_22 (BatchN  (None, 4, 4, 256)   1024        ['conv2d_22[0][0]']              \n",
      " ormalization)                                                                                    \n",
      "                                                                                                  \n",
      " activation_20 (Activation)     (None, 4, 4, 256)    0           ['batch_normalization_22[0][0]'] \n",
      "                                                                                                  \n",
      " conv2d_24 (Conv2D)             (None, 4, 4, 1024)   525312      ['activation_18[0][0]']          \n",
      "                                                                                                  \n",
      " conv2d_23 (Conv2D)             (None, 4, 4, 1024)   263168      ['activation_20[0][0]']          \n",
      "                                                                                                  \n",
      " batch_normalization_24 (BatchN  (None, 4, 4, 1024)  4096        ['conv2d_24[0][0]']              \n",
      " ormalization)                                                                                    \n",
      "                                                                                                  \n",
      " batch_normalization_23 (BatchN  (None, 4, 4, 1024)  4096        ['conv2d_23[0][0]']              \n",
      " ormalization)                                                                                    \n",
      "                                                                                                  \n",
      " add_6 (Add)                    (None, 4, 4, 1024)   0           ['batch_normalization_24[0][0]', \n",
      "                                                                  'batch_normalization_23[0][0]'] \n",
      "                                                                                                  \n",
      " activation_21 (Activation)     (None, 4, 4, 1024)   0           ['add_6[0][0]']                  \n",
      "                                                                                                  \n",
      " conv2d_25 (Conv2D)             (None, 4, 4, 256)    262400      ['activation_21[0][0]']          \n",
      "                                                                                                  \n",
      " batch_normalization_25 (BatchN  (None, 4, 4, 256)   1024        ['conv2d_25[0][0]']              \n",
      " ormalization)                                                                                    \n",
      "                                                                                                  \n",
      " activation_22 (Activation)     (None, 4, 4, 256)    0           ['batch_normalization_25[0][0]'] \n",
      "                                                                                                  \n",
      " conv2d_26 (Conv2D)             (None, 4, 4, 256)    590080      ['activation_22[0][0]']          \n",
      "                                                                                                  \n",
      " batch_normalization_26 (BatchN  (None, 4, 4, 256)   1024        ['conv2d_26[0][0]']              \n",
      " ormalization)                                                                                    \n",
      "                                                                                                  \n",
      " activation_23 (Activation)     (None, 4, 4, 256)    0           ['batch_normalization_26[0][0]'] \n",
      "                                                                                                  \n",
      " conv2d_27 (Conv2D)             (None, 4, 4, 1024)   263168      ['activation_23[0][0]']          \n",
      "                                                                                                  \n",
      " batch_normalization_27 (BatchN  (None, 4, 4, 1024)  4096        ['conv2d_27[0][0]']              \n",
      " ormalization)                                                                                    \n",
      "                                                                                                  \n",
      " add_7 (Add)                    (None, 4, 4, 1024)   0           ['activation_21[0][0]',          \n",
      "                                                                  'batch_normalization_27[0][0]'] \n",
      "                                                                                                  \n",
      " activation_24 (Activation)     (None, 4, 4, 1024)   0           ['add_7[0][0]']                  \n",
      "                                                                                                  \n",
      " conv2d_28 (Conv2D)             (None, 4, 4, 256)    262400      ['activation_24[0][0]']          \n",
      "                                                                                                  \n",
      " batch_normalization_28 (BatchN  (None, 4, 4, 256)   1024        ['conv2d_28[0][0]']              \n",
      " ormalization)                                                                                    \n",
      "                                                                                                  \n",
      " activation_25 (Activation)     (None, 4, 4, 256)    0           ['batch_normalization_28[0][0]'] \n",
      "                                                                                                  \n",
      " conv2d_29 (Conv2D)             (None, 4, 4, 256)    590080      ['activation_25[0][0]']          \n",
      "                                                                                                  \n",
      " batch_normalization_29 (BatchN  (None, 4, 4, 256)   1024        ['conv2d_29[0][0]']              \n",
      " ormalization)                                                                                    \n",
      "                                                                                                  \n",
      " activation_26 (Activation)     (None, 4, 4, 256)    0           ['batch_normalization_29[0][0]'] \n",
      "                                                                                                  \n",
      " conv2d_30 (Conv2D)             (None, 4, 4, 1024)   263168      ['activation_26[0][0]']          \n",
      "                                                                                                  \n",
      " batch_normalization_30 (BatchN  (None, 4, 4, 1024)  4096        ['conv2d_30[0][0]']              \n",
      " ormalization)                                                                                    \n",
      "                                                                                                  \n",
      " add_8 (Add)                    (None, 4, 4, 1024)   0           ['activation_24[0][0]',          \n",
      "                                                                  'batch_normalization_30[0][0]'] \n",
      "                                                                                                  \n",
      " activation_27 (Activation)     (None, 4, 4, 1024)   0           ['add_8[0][0]']                  \n",
      "                                                                                                  \n",
      " conv2d_31 (Conv2D)             (None, 4, 4, 256)    262400      ['activation_27[0][0]']          \n",
      "                                                                                                  \n",
      " batch_normalization_31 (BatchN  (None, 4, 4, 256)   1024        ['conv2d_31[0][0]']              \n",
      " ormalization)                                                                                    \n",
      "                                                                                                  \n",
      " activation_28 (Activation)     (None, 4, 4, 256)    0           ['batch_normalization_31[0][0]'] \n",
      "                                                                                                  \n",
      " conv2d_32 (Conv2D)             (None, 4, 4, 256)    590080      ['activation_28[0][0]']          \n",
      "                                                                                                  \n",
      " batch_normalization_32 (BatchN  (None, 4, 4, 256)   1024        ['conv2d_32[0][0]']              \n",
      " ormalization)                                                                                    \n",
      "                                                                                                  \n",
      " activation_29 (Activation)     (None, 4, 4, 256)    0           ['batch_normalization_32[0][0]'] \n",
      "                                                                                                  \n",
      " conv2d_33 (Conv2D)             (None, 4, 4, 1024)   263168      ['activation_29[0][0]']          \n",
      "                                                                                                  \n",
      " batch_normalization_33 (BatchN  (None, 4, 4, 1024)  4096        ['conv2d_33[0][0]']              \n",
      " ormalization)                                                                                    \n",
      "                                                                                                  \n",
      " add_9 (Add)                    (None, 4, 4, 1024)   0           ['activation_27[0][0]',          \n",
      "                                                                  'batch_normalization_33[0][0]'] \n",
      "                                                                                                  \n",
      " activation_30 (Activation)     (None, 4, 4, 1024)   0           ['add_9[0][0]']                  \n",
      "                                                                                                  \n",
      " conv2d_34 (Conv2D)             (None, 4, 4, 256)    262400      ['activation_30[0][0]']          \n",
      "                                                                                                  \n",
      " batch_normalization_34 (BatchN  (None, 4, 4, 256)   1024        ['conv2d_34[0][0]']              \n",
      " ormalization)                                                                                    \n",
      "                                                                                                  \n",
      " activation_31 (Activation)     (None, 4, 4, 256)    0           ['batch_normalization_34[0][0]'] \n",
      "                                                                                                  \n",
      " conv2d_35 (Conv2D)             (None, 4, 4, 256)    590080      ['activation_31[0][0]']          \n",
      "                                                                                                  \n",
      " batch_normalization_35 (BatchN  (None, 4, 4, 256)   1024        ['conv2d_35[0][0]']              \n",
      " ormalization)                                                                                    \n",
      "                                                                                                  \n",
      " activation_32 (Activation)     (None, 4, 4, 256)    0           ['batch_normalization_35[0][0]'] \n",
      "                                                                                                  \n",
      " conv2d_36 (Conv2D)             (None, 4, 4, 1024)   263168      ['activation_32[0][0]']          \n",
      "                                                                                                  \n",
      " batch_normalization_36 (BatchN  (None, 4, 4, 1024)  4096        ['conv2d_36[0][0]']              \n",
      " ormalization)                                                                                    \n",
      "                                                                                                  \n",
      " add_10 (Add)                   (None, 4, 4, 1024)   0           ['activation_30[0][0]',          \n",
      "                                                                  'batch_normalization_36[0][0]'] \n",
      "                                                                                                  \n",
      " activation_33 (Activation)     (None, 4, 4, 1024)   0           ['add_10[0][0]']                 \n",
      "                                                                                                  \n",
      " conv2d_37 (Conv2D)             (None, 4, 4, 256)    262400      ['activation_33[0][0]']          \n",
      "                                                                                                  \n",
      " batch_normalization_37 (BatchN  (None, 4, 4, 256)   1024        ['conv2d_37[0][0]']              \n",
      " ormalization)                                                                                    \n",
      "                                                                                                  \n",
      " activation_34 (Activation)     (None, 4, 4, 256)    0           ['batch_normalization_37[0][0]'] \n",
      "                                                                                                  \n",
      " conv2d_38 (Conv2D)             (None, 4, 4, 256)    590080      ['activation_34[0][0]']          \n",
      "                                                                                                  \n",
      " batch_normalization_38 (BatchN  (None, 4, 4, 256)   1024        ['conv2d_38[0][0]']              \n",
      " ormalization)                                                                                    \n",
      "                                                                                                  \n",
      " activation_35 (Activation)     (None, 4, 4, 256)    0           ['batch_normalization_38[0][0]'] \n",
      "                                                                                                  \n",
      " conv2d_39 (Conv2D)             (None, 4, 4, 1024)   263168      ['activation_35[0][0]']          \n",
      "                                                                                                  \n",
      " batch_normalization_39 (BatchN  (None, 4, 4, 1024)  4096        ['conv2d_39[0][0]']              \n",
      " ormalization)                                                                                    \n",
      "                                                                                                  \n",
      " add_11 (Add)                   (None, 4, 4, 1024)   0           ['activation_33[0][0]',          \n",
      "                                                                  'batch_normalization_39[0][0]'] \n",
      "                                                                                                  \n",
      " activation_36 (Activation)     (None, 4, 4, 1024)   0           ['add_11[0][0]']                 \n",
      "                                                                                                  \n",
      " conv2d_40 (Conv2D)             (None, 2, 2, 512)    524800      ['activation_36[0][0]']          \n",
      "                                                                                                  \n",
      " batch_normalization_40 (BatchN  (None, 2, 2, 512)   2048        ['conv2d_40[0][0]']              \n",
      " ormalization)                                                                                    \n",
      "                                                                                                  \n",
      " activation_37 (Activation)     (None, 2, 2, 512)    0           ['batch_normalization_40[0][0]'] \n",
      "                                                                                                  \n",
      " conv2d_41 (Conv2D)             (None, 2, 2, 512)    2359808     ['activation_37[0][0]']          \n",
      "                                                                                                  \n",
      " batch_normalization_41 (BatchN  (None, 2, 2, 512)   2048        ['conv2d_41[0][0]']              \n",
      " ormalization)                                                                                    \n",
      "                                                                                                  \n",
      " activation_38 (Activation)     (None, 2, 2, 512)    0           ['batch_normalization_41[0][0]'] \n",
      "                                                                                                  \n",
      " conv2d_43 (Conv2D)             (None, 2, 2, 2048)   2099200     ['activation_36[0][0]']          \n",
      "                                                                                                  \n",
      " conv2d_42 (Conv2D)             (None, 2, 2, 2048)   1050624     ['activation_38[0][0]']          \n",
      "                                                                                                  \n",
      " batch_normalization_43 (BatchN  (None, 2, 2, 2048)  8192        ['conv2d_43[0][0]']              \n",
      " ormalization)                                                                                    \n",
      "                                                                                                  \n",
      " batch_normalization_42 (BatchN  (None, 2, 2, 2048)  8192        ['conv2d_42[0][0]']              \n",
      " ormalization)                                                                                    \n",
      "                                                                                                  \n",
      " add_12 (Add)                   (None, 2, 2, 2048)   0           ['batch_normalization_43[0][0]', \n",
      "                                                                  'batch_normalization_42[0][0]'] \n",
      "                                                                                                  \n",
      " activation_39 (Activation)     (None, 2, 2, 2048)   0           ['add_12[0][0]']                 \n",
      "                                                                                                  \n",
      " conv2d_44 (Conv2D)             (None, 2, 2, 512)    1049088     ['activation_39[0][0]']          \n",
      "                                                                                                  \n",
      " batch_normalization_44 (BatchN  (None, 2, 2, 512)   2048        ['conv2d_44[0][0]']              \n",
      " ormalization)                                                                                    \n",
      "                                                                                                  \n",
      " activation_40 (Activation)     (None, 2, 2, 512)    0           ['batch_normalization_44[0][0]'] \n",
      "                                                                                                  \n",
      " conv2d_45 (Conv2D)             (None, 2, 2, 512)    2359808     ['activation_40[0][0]']          \n",
      "                                                                                                  \n",
      " batch_normalization_45 (BatchN  (None, 2, 2, 512)   2048        ['conv2d_45[0][0]']              \n",
      " ormalization)                                                                                    \n",
      "                                                                                                  \n",
      " activation_41 (Activation)     (None, 2, 2, 512)    0           ['batch_normalization_45[0][0]'] \n",
      "                                                                                                  \n",
      " conv2d_46 (Conv2D)             (None, 2, 2, 2048)   1050624     ['activation_41[0][0]']          \n",
      "                                                                                                  \n",
      " batch_normalization_46 (BatchN  (None, 2, 2, 2048)  8192        ['conv2d_46[0][0]']              \n",
      " ormalization)                                                                                    \n",
      "                                                                                                  \n",
      " add_13 (Add)                   (None, 2, 2, 2048)   0           ['activation_39[0][0]',          \n",
      "                                                                  'batch_normalization_46[0][0]'] \n",
      "                                                                                                  \n",
      " activation_42 (Activation)     (None, 2, 2, 2048)   0           ['add_13[0][0]']                 \n",
      "                                                                                                  \n",
      " conv2d_47 (Conv2D)             (None, 2, 2, 512)    1049088     ['activation_42[0][0]']          \n",
      "                                                                                                  \n",
      " batch_normalization_47 (BatchN  (None, 2, 2, 512)   2048        ['conv2d_47[0][0]']              \n",
      " ormalization)                                                                                    \n",
      "                                                                                                  \n",
      " activation_43 (Activation)     (None, 2, 2, 512)    0           ['batch_normalization_47[0][0]'] \n",
      "                                                                                                  \n",
      " conv2d_48 (Conv2D)             (None, 2, 2, 512)    2359808     ['activation_43[0][0]']          \n",
      "                                                                                                  \n",
      " batch_normalization_48 (BatchN  (None, 2, 2, 512)   2048        ['conv2d_48[0][0]']              \n",
      " ormalization)                                                                                    \n",
      "                                                                                                  \n",
      " activation_44 (Activation)     (None, 2, 2, 512)    0           ['batch_normalization_48[0][0]'] \n",
      "                                                                                                  \n",
      " conv2d_49 (Conv2D)             (None, 2, 2, 2048)   1050624     ['activation_44[0][0]']          \n",
      "                                                                                                  \n",
      " batch_normalization_49 (BatchN  (None, 2, 2, 2048)  8192        ['conv2d_49[0][0]']              \n",
      " ormalization)                                                                                    \n",
      "                                                                                                  \n",
      " add_14 (Add)                   (None, 2, 2, 2048)   0           ['activation_42[0][0]',          \n",
      "                                                                  'batch_normalization_49[0][0]'] \n",
      "                                                                                                  \n",
      " activation_45 (Activation)     (None, 2, 2, 2048)   0           ['add_14[0][0]']                 \n",
      "                                                                                                  \n",
      " average_pooling2d (AveragePool  (None, 1, 1, 2048)  0           ['activation_45[0][0]']          \n",
      " ing2D)                                                                                           \n",
      "                                                                                                  \n",
      " flatten (Flatten)              (None, 2048)         0           ['average_pooling2d[0][0]']      \n",
      "                                                                                                  \n",
      " dense (Dense)                  (None, 6)            12294       ['flatten[0][0]']                \n",
      "                                                                                                  \n",
      "==================================================================================================\n",
      "Total params: 23,317,638\n",
      "Trainable params: 23,266,054\n",
      "Non-trainable params: 51,584\n",
      "__________________________________________________________________________________________________\n",
      "None\n"
     ]
    }
   ],
   "source": [
    "model = ResNet50(input_shape = (64, 64, 3), classes = 6)\n",
    "print(model.summary())"
   ]
  },
  {
   "cell_type": "code",
   "execution_count": 7,
   "metadata": {
    "id": "nlANz4HVnHH6"
   },
   "outputs": [],
   "source": [
    "def load_dataset(path_to_train, path_to_test):\n",
    "    train_dataset = h5py.File(path_to_train)\n",
    "    train_x = np.array(train_dataset['train_set_x'][:])\n",
    "    train_y = np.array(train_dataset['train_set_y'][:])\n",
    "\n",
    "    test_dataset = h5py.File(path_to_test)\n",
    "    test_x = np.array(test_dataset['test_set_x'][:])\n",
    "    test_y = np.array(test_dataset['test_set_y'][:])\n",
    "\n",
    "    # y reshaped\n",
    "    train_y = train_y.reshape((1, train_x.shape[0]))\n",
    "    test_y = test_y.reshape((1, test_y.shape[0]))\n",
    "\n",
    "    return train_x, train_y, test_x, test_y"
   ]
  },
  {
   "cell_type": "code",
   "execution_count": 9,
   "metadata": {
    "id": "MbuBygjfnHEi"
   },
   "outputs": [],
   "source": [
    "train_x_orig, train_y_orig, test_x_orig, test_y_orig = load_dataset(path_to_train='/content/datasets/train_signs.h5',path_to_test='/content/datasets/test_signs.h5')"
   ]
  },
  {
   "cell_type": "code",
   "execution_count": 11,
   "metadata": {
    "id": "SN-Z5XJ1nHA8"
   },
   "outputs": [],
   "source": [
    "X_train = train_x_orig/255.\n",
    "X_test = test_x_orig/255."
   ]
  },
  {
   "cell_type": "code",
   "execution_count": 15,
   "metadata": {
    "id": "hPLppwS0nG9m"
   },
   "outputs": [],
   "source": [
    "from sklearn.preprocessing import OneHotEncoder\n",
    "encoder = OneHotEncoder(sparse=False)"
   ]
  },
  {
   "cell_type": "code",
   "execution_count": 16,
   "metadata": {
    "colab": {
     "base_uri": "https://localhost:8080/"
    },
    "id": "YB--FSRMnG4W",
    "outputId": "75f9d8b3-6381-4d27-eb04-9b1963d57348"
   },
   "outputs": [
    {
     "name": "stderr",
     "output_type": "stream",
     "text": [
      "/usr/local/lib/python3.10/dist-packages/sklearn/preprocessing/_encoders.py:868: FutureWarning: `sparse` was renamed to `sparse_output` in version 1.2 and will be removed in 1.4. `sparse_output` is ignored unless you leave `sparse` to its default value.\n",
      "  warnings.warn(\n",
      "/usr/local/lib/python3.10/dist-packages/sklearn/preprocessing/_encoders.py:868: FutureWarning: `sparse` was renamed to `sparse_output` in version 1.2 and will be removed in 1.4. `sparse_output` is ignored unless you leave `sparse` to its default value.\n",
      "  warnings.warn(\n"
     ]
    }
   ],
   "source": [
    "Y_train = encoder.fit_transform(train_y_orig.T)\n",
    "Y_test = encoder.fit_transform(test_y_orig.T)"
   ]
  },
  {
   "cell_type": "code",
   "execution_count": 18,
   "metadata": {
    "id": "ef8I3L7FnGxT"
   },
   "outputs": [],
   "source": [
    "model = ResNet50()\n",
    "model.compile(optimizer='adam',loss='categorical_crossentropy', metrics =['accuracy'])"
   ]
  },
  {
   "cell_type": "code",
   "execution_count": 20,
   "metadata": {
    "colab": {
     "base_uri": "https://localhost:8080/"
    },
    "id": "OGVI7H7-nGt8",
    "outputId": "f88744bc-397c-4267-de7e-33e6982b7d72"
   },
   "outputs": [
    {
     "name": "stdout",
     "output_type": "stream",
     "text": [
      "Epoch 1/100\n",
      "27/27 [==============================] - 50s 108ms/step - loss: 2.2287 - accuracy: 0.3796 - val_loss: 3.3631 - val_accuracy: 0.1528\n",
      "Epoch 2/100\n",
      "27/27 [==============================] - 1s 51ms/step - loss: 0.6591 - accuracy: 0.7708 - val_loss: 5.4832 - val_accuracy: 0.1528\n",
      "Epoch 3/100\n",
      "27/27 [==============================] - 1s 53ms/step - loss: 0.2870 - accuracy: 0.9155 - val_loss: 5.5095 - val_accuracy: 0.1806\n",
      "Epoch 4/100\n",
      "27/27 [==============================] - 1s 50ms/step - loss: 0.4232 - accuracy: 0.8657 - val_loss: 5.5767 - val_accuracy: 0.1528\n",
      "Epoch 5/100\n",
      "27/27 [==============================] - 1s 53ms/step - loss: 0.2816 - accuracy: 0.9109 - val_loss: 2.4618 - val_accuracy: 0.2454\n",
      "Epoch 6/100\n",
      "27/27 [==============================] - 2s 56ms/step - loss: 0.1877 - accuracy: 0.9421 - val_loss: 3.2181 - val_accuracy: 0.1759\n",
      "Epoch 7/100\n",
      "27/27 [==============================] - 1s 56ms/step - loss: 0.3089 - accuracy: 0.9178 - val_loss: 3.9752 - val_accuracy: 0.1528\n",
      "Epoch 8/100\n",
      "27/27 [==============================] - 1s 51ms/step - loss: 0.2131 - accuracy: 0.9340 - val_loss: 4.4159 - val_accuracy: 0.1759\n",
      "Epoch 9/100\n",
      "27/27 [==============================] - 1s 51ms/step - loss: 0.1601 - accuracy: 0.9502 - val_loss: 10.6338 - val_accuracy: 0.1528\n",
      "Epoch 10/100\n",
      "27/27 [==============================] - 1s 53ms/step - loss: 0.0668 - accuracy: 0.9769 - val_loss: 9.6429 - val_accuracy: 0.1574\n",
      "Epoch 11/100\n",
      "27/27 [==============================] - 1s 51ms/step - loss: 0.0210 - accuracy: 0.9931 - val_loss: 4.3029 - val_accuracy: 0.2083\n",
      "Epoch 12/100\n",
      "27/27 [==============================] - 1s 51ms/step - loss: 0.0851 - accuracy: 0.9745 - val_loss: 6.2246 - val_accuracy: 0.2315\n",
      "Epoch 13/100\n",
      "27/27 [==============================] - 1s 51ms/step - loss: 0.1228 - accuracy: 0.9572 - val_loss: 7.3843 - val_accuracy: 0.2315\n",
      "Epoch 14/100\n",
      "27/27 [==============================] - 1s 52ms/step - loss: 0.2225 - accuracy: 0.9410 - val_loss: 7.6883 - val_accuracy: 0.3102\n",
      "Epoch 15/100\n",
      "27/27 [==============================] - 2s 58ms/step - loss: 0.1481 - accuracy: 0.9491 - val_loss: 4.6485 - val_accuracy: 0.4444\n",
      "Epoch 16/100\n",
      "27/27 [==============================] - 1s 55ms/step - loss: 0.0531 - accuracy: 0.9792 - val_loss: 3.7505 - val_accuracy: 0.4676\n",
      "Epoch 17/100\n",
      "27/27 [==============================] - 1s 55ms/step - loss: 0.1019 - accuracy: 0.9745 - val_loss: 1.8434 - val_accuracy: 0.6667\n",
      "Epoch 18/100\n",
      "27/27 [==============================] - 1s 56ms/step - loss: 0.0797 - accuracy: 0.9722 - val_loss: 2.6531 - val_accuracy: 0.6713\n",
      "Epoch 19/100\n",
      "27/27 [==============================] - 1s 53ms/step - loss: 0.0684 - accuracy: 0.9769 - val_loss: 0.6972 - val_accuracy: 0.8657\n",
      "Epoch 20/100\n",
      "27/27 [==============================] - 1s 52ms/step - loss: 0.0820 - accuracy: 0.9769 - val_loss: 0.7947 - val_accuracy: 0.8611\n",
      "Epoch 21/100\n",
      "27/27 [==============================] - 1s 52ms/step - loss: 0.0511 - accuracy: 0.9826 - val_loss: 0.6699 - val_accuracy: 0.8426\n",
      "Epoch 22/100\n",
      "27/27 [==============================] - 1s 51ms/step - loss: 0.0265 - accuracy: 0.9896 - val_loss: 0.3140 - val_accuracy: 0.9444\n",
      "Epoch 23/100\n",
      "27/27 [==============================] - 2s 56ms/step - loss: 0.0171 - accuracy: 0.9977 - val_loss: 0.5718 - val_accuracy: 0.8565\n",
      "Epoch 24/100\n",
      "27/27 [==============================] - 1s 56ms/step - loss: 0.0113 - accuracy: 0.9965 - val_loss: 1.4725 - val_accuracy: 0.6944\n",
      "Epoch 25/100\n",
      "27/27 [==============================] - 1s 53ms/step - loss: 0.0071 - accuracy: 0.9965 - val_loss: 1.2937 - val_accuracy: 0.7083\n",
      "Epoch 26/100\n",
      "27/27 [==============================] - 1s 51ms/step - loss: 0.0038 - accuracy: 0.9988 - val_loss: 0.4935 - val_accuracy: 0.8796\n",
      "Epoch 27/100\n",
      "27/27 [==============================] - 1s 53ms/step - loss: 0.0022 - accuracy: 1.0000 - val_loss: 0.3045 - val_accuracy: 0.9306\n",
      "Epoch 28/100\n",
      "27/27 [==============================] - 1s 53ms/step - loss: 0.0114 - accuracy: 0.9977 - val_loss: 0.3243 - val_accuracy: 0.9213\n",
      "Epoch 29/100\n",
      "27/27 [==============================] - 1s 52ms/step - loss: 0.0208 - accuracy: 0.9919 - val_loss: 0.7256 - val_accuracy: 0.8565\n",
      "Epoch 30/100\n",
      "27/27 [==============================] - 1s 51ms/step - loss: 0.0140 - accuracy: 0.9942 - val_loss: 0.4353 - val_accuracy: 0.9028\n",
      "Epoch 31/100\n",
      "27/27 [==============================] - 1s 56ms/step - loss: 0.0102 - accuracy: 0.9977 - val_loss: 0.5231 - val_accuracy: 0.9306\n",
      "Epoch 32/100\n",
      "27/27 [==============================] - 2s 57ms/step - loss: 0.0140 - accuracy: 0.9954 - val_loss: 0.5161 - val_accuracy: 0.9120\n",
      "Epoch 33/100\n",
      "27/27 [==============================] - 1s 51ms/step - loss: 0.0408 - accuracy: 0.9907 - val_loss: 1.8332 - val_accuracy: 0.5741\n",
      "Epoch 34/100\n",
      "27/27 [==============================] - 1s 53ms/step - loss: 0.1287 - accuracy: 0.9688 - val_loss: 1.5635 - val_accuracy: 0.7639\n",
      "Epoch 35/100\n",
      "27/27 [==============================] - 1s 51ms/step - loss: 0.1679 - accuracy: 0.9595 - val_loss: 3.9095 - val_accuracy: 0.4954\n",
      "Epoch 36/100\n",
      "27/27 [==============================] - 1s 53ms/step - loss: 0.0775 - accuracy: 0.9757 - val_loss: 0.7834 - val_accuracy: 0.7917\n",
      "Epoch 37/100\n",
      "27/27 [==============================] - 1s 51ms/step - loss: 0.0621 - accuracy: 0.9815 - val_loss: 0.6509 - val_accuracy: 0.8194\n",
      "Epoch 38/100\n",
      "27/27 [==============================] - 1s 53ms/step - loss: 0.0571 - accuracy: 0.9850 - val_loss: 2.4391 - val_accuracy: 0.6806\n",
      "Epoch 39/100\n",
      "27/27 [==============================] - 1s 51ms/step - loss: 0.0613 - accuracy: 0.9838 - val_loss: 0.9086 - val_accuracy: 0.8380\n",
      "Epoch 40/100\n",
      "27/27 [==============================] - 2s 57ms/step - loss: 0.0084 - accuracy: 0.9965 - val_loss: 0.4682 - val_accuracy: 0.8935\n",
      "Epoch 41/100\n",
      "27/27 [==============================] - 1s 54ms/step - loss: 0.0048 - accuracy: 0.9988 - val_loss: 0.2626 - val_accuracy: 0.9491\n",
      "Epoch 42/100\n",
      "27/27 [==============================] - 1s 54ms/step - loss: 0.0011 - accuracy: 1.0000 - val_loss: 0.1685 - val_accuracy: 0.9630\n",
      "Epoch 43/100\n",
      "27/27 [==============================] - 1s 51ms/step - loss: 2.9682e-04 - accuracy: 1.0000 - val_loss: 0.1772 - val_accuracy: 0.9537\n",
      "Epoch 44/100\n",
      "27/27 [==============================] - 1s 53ms/step - loss: 2.0601e-04 - accuracy: 1.0000 - val_loss: 0.1823 - val_accuracy: 0.9537\n",
      "Epoch 45/100\n",
      "27/27 [==============================] - 1s 53ms/step - loss: 1.7428e-04 - accuracy: 1.0000 - val_loss: 0.1896 - val_accuracy: 0.9583\n",
      "Epoch 46/100\n",
      "27/27 [==============================] - 1s 54ms/step - loss: 1.6303e-04 - accuracy: 1.0000 - val_loss: 0.1957 - val_accuracy: 0.9537\n",
      "Epoch 47/100\n",
      "27/27 [==============================] - 1s 54ms/step - loss: 1.7149e-04 - accuracy: 1.0000 - val_loss: 0.1990 - val_accuracy: 0.9491\n",
      "Epoch 48/100\n",
      "27/27 [==============================] - 2s 56ms/step - loss: 1.3616e-04 - accuracy: 1.0000 - val_loss: 0.1968 - val_accuracy: 0.9491\n",
      "Epoch 49/100\n",
      "27/27 [==============================] - 1s 54ms/step - loss: 1.9222e-04 - accuracy: 1.0000 - val_loss: 0.1976 - val_accuracy: 0.9537\n",
      "Epoch 50/100\n",
      "27/27 [==============================] - 1s 52ms/step - loss: 7.4085e-05 - accuracy: 1.0000 - val_loss: 0.1981 - val_accuracy: 0.9537\n",
      "Epoch 51/100\n",
      "27/27 [==============================] - 1s 52ms/step - loss: 9.1438e-05 - accuracy: 1.0000 - val_loss: 0.1981 - val_accuracy: 0.9537\n",
      "Epoch 52/100\n",
      "27/27 [==============================] - 1s 52ms/step - loss: 8.1419e-05 - accuracy: 1.0000 - val_loss: 0.1990 - val_accuracy: 0.9583\n",
      "Epoch 53/100\n",
      "27/27 [==============================] - 1s 51ms/step - loss: 1.1187e-04 - accuracy: 1.0000 - val_loss: 0.1992 - val_accuracy: 0.9583\n",
      "Epoch 54/100\n",
      "27/27 [==============================] - 1s 51ms/step - loss: 1.5857e-04 - accuracy: 1.0000 - val_loss: 0.2035 - val_accuracy: 0.9537\n",
      "Epoch 55/100\n",
      "27/27 [==============================] - 1s 52ms/step - loss: 5.4118e-05 - accuracy: 1.0000 - val_loss: 0.2050 - val_accuracy: 0.9537\n",
      "Epoch 56/100\n",
      "27/27 [==============================] - 1s 54ms/step - loss: 6.0921e-05 - accuracy: 1.0000 - val_loss: 0.2046 - val_accuracy: 0.9537\n",
      "Epoch 57/100\n",
      "27/27 [==============================] - 2s 57ms/step - loss: 9.0433e-05 - accuracy: 1.0000 - val_loss: 0.2046 - val_accuracy: 0.9537\n",
      "Epoch 58/100\n",
      "27/27 [==============================] - 2s 57ms/step - loss: 1.5168e-04 - accuracy: 1.0000 - val_loss: 0.2039 - val_accuracy: 0.9583\n",
      "Epoch 59/100\n",
      "27/27 [==============================] - 1s 54ms/step - loss: 5.9004e-05 - accuracy: 1.0000 - val_loss: 0.2033 - val_accuracy: 0.9583\n",
      "Epoch 60/100\n",
      "27/27 [==============================] - 1s 53ms/step - loss: 6.0975e-05 - accuracy: 1.0000 - val_loss: 0.2035 - val_accuracy: 0.9583\n",
      "Epoch 61/100\n",
      "27/27 [==============================] - 1s 54ms/step - loss: 8.2490e-05 - accuracy: 1.0000 - val_loss: 0.2035 - val_accuracy: 0.9583\n",
      "Epoch 62/100\n",
      "27/27 [==============================] - 1s 54ms/step - loss: 4.5317e-05 - accuracy: 1.0000 - val_loss: 0.2030 - val_accuracy: 0.9583\n",
      "Epoch 63/100\n",
      "27/27 [==============================] - 1s 54ms/step - loss: 4.3322e-05 - accuracy: 1.0000 - val_loss: 0.2032 - val_accuracy: 0.9583\n",
      "Epoch 64/100\n",
      "27/27 [==============================] - 1s 54ms/step - loss: 1.0263e-04 - accuracy: 1.0000 - val_loss: 0.2101 - val_accuracy: 0.9583\n",
      "Epoch 65/100\n",
      "27/27 [==============================] - 2s 58ms/step - loss: 3.0903e-05 - accuracy: 1.0000 - val_loss: 0.2109 - val_accuracy: 0.9583\n",
      "Epoch 66/100\n",
      "27/27 [==============================] - 1s 54ms/step - loss: 3.2654e-05 - accuracy: 1.0000 - val_loss: 0.2108 - val_accuracy: 0.9583\n",
      "Epoch 67/100\n",
      "27/27 [==============================] - 1s 54ms/step - loss: 2.7365e-05 - accuracy: 1.0000 - val_loss: 0.2110 - val_accuracy: 0.9583\n",
      "Epoch 68/100\n",
      "27/27 [==============================] - 1s 54ms/step - loss: 7.7279e-05 - accuracy: 1.0000 - val_loss: 0.2092 - val_accuracy: 0.9583\n",
      "Epoch 69/100\n",
      "27/27 [==============================] - 1s 51ms/step - loss: 4.3153e-05 - accuracy: 1.0000 - val_loss: 0.2097 - val_accuracy: 0.9583\n",
      "Epoch 70/100\n",
      "27/27 [==============================] - 1s 54ms/step - loss: 4.2571e-05 - accuracy: 1.0000 - val_loss: 0.2104 - val_accuracy: 0.9583\n",
      "Epoch 71/100\n",
      "27/27 [==============================] - 1s 52ms/step - loss: 3.6574e-05 - accuracy: 1.0000 - val_loss: 0.2111 - val_accuracy: 0.9583\n",
      "Epoch 72/100\n",
      "27/27 [==============================] - 1s 52ms/step - loss: 2.7265e-05 - accuracy: 1.0000 - val_loss: 0.2111 - val_accuracy: 0.9583\n",
      "Epoch 73/100\n",
      "27/27 [==============================] - 1s 56ms/step - loss: 4.5056e-05 - accuracy: 1.0000 - val_loss: 0.2108 - val_accuracy: 0.9583\n",
      "Epoch 74/100\n",
      "27/27 [==============================] - 2s 56ms/step - loss: 2.3699e-05 - accuracy: 1.0000 - val_loss: 0.2108 - val_accuracy: 0.9583\n",
      "Epoch 75/100\n",
      "27/27 [==============================] - 1s 54ms/step - loss: 2.1949e-05 - accuracy: 1.0000 - val_loss: 0.2106 - val_accuracy: 0.9583\n",
      "Epoch 76/100\n",
      "27/27 [==============================] - 1s 54ms/step - loss: 7.1306e-05 - accuracy: 1.0000 - val_loss: 0.2186 - val_accuracy: 0.9583\n",
      "Epoch 77/100\n",
      "27/27 [==============================] - 1s 53ms/step - loss: 3.4101e-05 - accuracy: 1.0000 - val_loss: 0.2178 - val_accuracy: 0.9583\n",
      "Epoch 78/100\n",
      "27/27 [==============================] - 1s 52ms/step - loss: 2.9325e-05 - accuracy: 1.0000 - val_loss: 0.2163 - val_accuracy: 0.9583\n",
      "Epoch 79/100\n",
      "27/27 [==============================] - 1s 54ms/step - loss: 2.1978e-05 - accuracy: 1.0000 - val_loss: 0.2155 - val_accuracy: 0.9583\n",
      "Epoch 80/100\n",
      "27/27 [==============================] - 1s 52ms/step - loss: 2.3447e-05 - accuracy: 1.0000 - val_loss: 0.2150 - val_accuracy: 0.9583\n",
      "Epoch 81/100\n",
      "27/27 [==============================] - 1s 54ms/step - loss: 2.9171e-05 - accuracy: 1.0000 - val_loss: 0.2152 - val_accuracy: 0.9583\n",
      "Epoch 82/100\n",
      "27/27 [==============================] - 2s 58ms/step - loss: 1.9922e-05 - accuracy: 1.0000 - val_loss: 0.2149 - val_accuracy: 0.9583\n",
      "Epoch 83/100\n",
      "27/27 [==============================] - 1s 53ms/step - loss: 2.7766e-05 - accuracy: 1.0000 - val_loss: 0.2132 - val_accuracy: 0.9583\n",
      "Epoch 84/100\n",
      "27/27 [==============================] - 1s 52ms/step - loss: 3.4591e-05 - accuracy: 1.0000 - val_loss: 0.2124 - val_accuracy: 0.9583\n",
      "Epoch 85/100\n",
      "27/27 [==============================] - 1s 52ms/step - loss: 2.1372e-05 - accuracy: 1.0000 - val_loss: 0.2126 - val_accuracy: 0.9583\n",
      "Epoch 86/100\n",
      "27/27 [==============================] - 1s 54ms/step - loss: 2.2002e-05 - accuracy: 1.0000 - val_loss: 0.2125 - val_accuracy: 0.9583\n",
      "Epoch 87/100\n",
      "27/27 [==============================] - 1s 53ms/step - loss: 1.8933e-05 - accuracy: 1.0000 - val_loss: 0.2124 - val_accuracy: 0.9583\n",
      "Epoch 88/100\n",
      "27/27 [==============================] - 1s 52ms/step - loss: 1.8381e-05 - accuracy: 1.0000 - val_loss: 0.2122 - val_accuracy: 0.9583\n",
      "Epoch 89/100\n",
      "27/27 [==============================] - 1s 53ms/step - loss: 1.8624e-05 - accuracy: 1.0000 - val_loss: 0.2120 - val_accuracy: 0.9583\n",
      "Epoch 90/100\n",
      "27/27 [==============================] - 2s 58ms/step - loss: 1.6580e-05 - accuracy: 1.0000 - val_loss: 0.2118 - val_accuracy: 0.9583\n",
      "Epoch 91/100\n",
      "27/27 [==============================] - 1s 54ms/step - loss: 3.5200e-05 - accuracy: 1.0000 - val_loss: 0.2130 - val_accuracy: 0.9583\n",
      "Epoch 92/100\n",
      "27/27 [==============================] - 1s 54ms/step - loss: 1.2286e-05 - accuracy: 1.0000 - val_loss: 0.2141 - val_accuracy: 0.9583\n",
      "Epoch 93/100\n",
      "27/27 [==============================] - 1s 55ms/step - loss: 1.9193e-05 - accuracy: 1.0000 - val_loss: 0.2145 - val_accuracy: 0.9583\n",
      "Epoch 94/100\n",
      "27/27 [==============================] - 1s 52ms/step - loss: 8.7856e-06 - accuracy: 1.0000 - val_loss: 0.2149 - val_accuracy: 0.9583\n",
      "Epoch 95/100\n",
      "27/27 [==============================] - 1s 52ms/step - loss: 1.7755e-05 - accuracy: 1.0000 - val_loss: 0.2156 - val_accuracy: 0.9583\n",
      "Epoch 96/100\n",
      "27/27 [==============================] - 1s 52ms/step - loss: 1.6830e-05 - accuracy: 1.0000 - val_loss: 0.2157 - val_accuracy: 0.9583\n",
      "Epoch 97/100\n",
      "27/27 [==============================] - 1s 55ms/step - loss: 4.1330e-05 - accuracy: 1.0000 - val_loss: 0.2175 - val_accuracy: 0.9583\n",
      "Epoch 98/100\n",
      "27/27 [==============================] - 2s 56ms/step - loss: 1.4566e-04 - accuracy: 1.0000 - val_loss: 0.2332 - val_accuracy: 0.9537\n",
      "Epoch 99/100\n",
      "27/27 [==============================] - 2s 59ms/step - loss: 1.8484e-05 - accuracy: 1.0000 - val_loss: 0.2330 - val_accuracy: 0.9537\n",
      "Epoch 100/100\n",
      "27/27 [==============================] - 1s 52ms/step - loss: 4.0260e-05 - accuracy: 1.0000 - val_loss: 0.2324 - val_accuracy: 0.9537\n"
     ]
    }
   ],
   "source": [
    "history = model.fit(X_train,Y_train, validation_split=0.2, epochs = 100, batch_size=32)"
   ]
  },
  {
   "cell_type": "code",
   "execution_count": 21,
   "metadata": {
    "colab": {
     "base_uri": "https://localhost:8080/"
    },
    "id": "pd3X_mXdnGqa",
    "outputId": "23a593fb-765f-408a-84ee-9194a0a26da3"
   },
   "outputs": [
    {
     "data": {
      "text/plain": [
       "dict_keys(['loss', 'accuracy', 'val_loss', 'val_accuracy'])"
      ]
     },
     "execution_count": 21,
     "metadata": {},
     "output_type": "execute_result"
    }
   ],
   "source": [
    "history.history.keys()"
   ]
  },
  {
   "cell_type": "code",
   "execution_count": 22,
   "metadata": {
    "id": "os5LMG_A-BYe"
   },
   "outputs": [],
   "source": [
    "import matplotlib.pyplot as plt"
   ]
  },
  {
   "cell_type": "code",
   "execution_count": 23,
   "metadata": {
    "colab": {
     "base_uri": "https://localhost:8080/",
     "height": 449
    },
    "id": "M5fnwEwQnGnD",
    "outputId": "079a0975-96e1-4fbe-a889-7c5f0dff5289"
   },
   "outputs": [
    {
     "data": {
      "image/png": "[encoded data removed]",
      "text/plain": [
       "<Figure size 640x480 with 1 Axes>"
      ]
     },
     "metadata": {},
     "output_type": "display_data"
    }
   ],
   "source": [
    "plt.plot(history.history['accuracy'],label='Train')\n",
    "plt.plot(history.history['val_accuracy'],label='Test')\n",
    "plt.xlabel('Epochs')\n",
    "plt.ylabel('Accuracy')\n",
    "plt.show()"
   ]
  },
  {
   "cell_type": "code",
   "execution_count": 24,
   "metadata": {
    "colab": {
     "base_uri": "https://localhost:8080/",
     "height": 449
    },
    "id": "0_aTJkuZnGjp",
    "outputId": "8bd00e56-302c-4279-8549-7fc0ff8ea30a"
   },
   "outputs": [
    {
     "data": {
      "image/png": "[encoded data removed]",
      "text/plain": [
       "<Figure size 640x480 with 1 Axes>"
      ]
     },
     "metadata": {},
     "output_type": "display_data"
    }
   ],
   "source": [
    "plt.plot(history.history['loss'],label='Train')\n",
    "plt.plot(history.history['val_loss'],label='Test')\n",
    "plt.xlabel('Epochs')\n",
    "plt.ylabel('Loss')\n",
    "plt.show()"
   ]
  },
  {
   "cell_type": "code",
   "execution_count": 25,
   "metadata": {
    "colab": {
     "base_uri": "https://localhost:8080/"
    },
    "id": "_m4Sy9n0nGf1",
    "outputId": "daaa959a-1647-4ee2-b4d5-3c7560f30be6"
   },
   "outputs": [
    {
     "name": "stdout",
     "output_type": "stream",
     "text": [
      "4/4 [==============================] - 0s 23ms/step - loss: 0.0628 - accuracy: 0.9750\n"
     ]
    },
    {
     "data": {
      "text/plain": [
       "[0.06275028735399246, 0.9750000238418579]"
      ]
     },
     "execution_count": 25,
     "metadata": {},
     "output_type": "execute_result"
    }
   ],
   "source": [
    "model.evaluate(X_test,Y_test)"
   ]
  },
  {
   "cell_type": "code",
   "execution_count": null,
   "metadata": {
    "id": "OZvzVNb9nGcc"
   },
   "outputs": [],
   "source": []
  },
  {
   "cell_type": "code",
   "execution_count": null,
   "metadata": {
    "id": "n9hSx9qfnGY6"
   },
   "outputs": [],
   "source": []
  },
  {
   "cell_type": "code",
   "execution_count": null,
   "metadata": {
    "id": "nQ9tILdEnGVN"
   },
   "outputs": [],
   "source": []
  },
  {
   "cell_type": "code",
   "execution_count": null,
   "metadata": {
    "id": "juV4Ur4xnGRs"
   },
   "outputs": [],
   "source": []
  },
  {
   "cell_type": "code",
   "execution_count": null,
   "metadata": {
    "id": "xaU1_FOjnGOH"
   },
   "outputs": [],
   "source": []
  },
  {
   "cell_type": "code",
   "execution_count": null,
   "metadata": {
    "id": "CxNlHgEKnGKm"
   },
   "outputs": [],
   "source": []
  },
  {
   "cell_type": "code",
   "execution_count": null,
   "metadata": {
    "id": "rtNrUBnznGG9"
   },
   "outputs": [],
   "source": []
  },
  {
   "cell_type": "code",
   "execution_count": null,
   "metadata": {
    "id": "CDeopIgZnGDa"
   },
   "outputs": [],
   "source": []
  },
  {
   "cell_type": "code",
   "execution_count": null,
   "metadata": {
    "id": "wzsWvfNfnGAH"
   },
   "outputs": [],
   "source": []
  },
  {
   "cell_type": "code",
   "execution_count": null,
   "metadata": {
    "id": "x8rDa0ZenF8u"
   },
   "outputs": [],
   "source": []
  },
  {
   "cell_type": "code",
   "execution_count": null,
   "metadata": {
    "id": "2MW9R5EinF5U"
   },
   "outputs": [],
   "source": []
  },
  {
   "cell_type": "code",
   "execution_count": null,
   "metadata": {
    "id": "l6sB4MPFnF19"
   },
   "outputs": [],
   "source": []
  },
  {
   "cell_type": "code",
   "execution_count": null,
   "metadata": {
    "id": "LUquzITDnFy4"
   },
   "outputs": [],
   "source": []
  },
  {
   "cell_type": "code",
   "execution_count": null,
   "metadata": {
    "id": "feTdVwkunFvT"
   },
   "outputs": [],
   "source": []
  },
  {
   "cell_type": "code",
   "execution_count": null,
   "metadata": {
    "id": "wCTaccdxnFr9"
   },
   "outputs": [],
   "source": []
  },
  {
   "cell_type": "code",
   "execution_count": null,
   "metadata": {
    "id": "1PboXJ3cnFoy"
   },
   "outputs": [],
   "source": []
  },
  {
   "cell_type": "code",
   "execution_count": null,
   "metadata": {
    "id": "Vwf3qpPTnFlr"
   },
   "outputs": [],
   "source": []
  },
  {
   "cell_type": "code",
   "execution_count": null,
   "metadata": {
    "id": "clbc_XbrnFiO"
   },
   "outputs": [],
   "source": []
  }
 ],
 "metadata": {
  "accelerator": "GPU",
  "colab": {
   "cell_execution_strategy": "setup",
   "gpuType": "T4",
   "provenance": []
  },
  "kernelspec": {
   "display_name": "Python 3 (ipykernel)",
   "language": "python",
   "name": "python3"
  },
  "language_info": {
   "codemirror_mode": {
    "name": "ipython",
    "version": 3
   },
   "file_extension": ".py",
   "mimetype": "text/x-python",
   "name": "python",
   "nbconvert_exporter": "python",
   "pygments_lexer": "ipython3",
   "version": "3.10.9"
  }
 },
 "nbformat": 4,
 "nbformat_minor": 1
}
